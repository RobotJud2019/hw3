{
 "cells": [
  {
   "cell_type": "code",
   "execution_count": 115,
   "metadata": {},
   "outputs": [],
   "source": [
    "# Problem set #3  due  May 16 2019\n",
    "# word embeddings\n",
    "import pickle\n",
    "# to load from saved pickle:\n",
    "# pkl_file = open(\"/tmp/p2_df_1k.20190411_180722.pkl\", 'rb')\n",
    "# df = pickle.load(pkl_file)\n",
    "import numpy as np\n",
    "import csv\n",
    "import pandas as pd\n",
    "import os\n",
    "from datetime import datetime\n",
    "import matplotlib.pyplot as plt\n",
    "from txt_utils import *\n",
    "\n",
    "from string import punctuation\n",
    "translator = str.maketrans(' ', ' ', punctuation)\n",
    "from nltk.corpus import stopwords\n",
    "stoplist = set(stopwords.words('english'))\n",
    "from nltk.stem import SnowballStemmer\n",
    "stemmer = SnowballStemmer('english')\n"
   ]
  },
  {
   "cell_type": "code",
   "execution_count": 116,
   "metadata": {},
   "outputs": [],
   "source": [
    "working_dir = \"/home/xhta/Robot/problemsets/prob3/\"\n",
    "mdfname = \"/home/xhta/Robot/problemsets/prob3/case_metadata.csv\"  # metadata\n",
    "fpath = '/home/xhta/Robot/cases/'       # !!!!!! this path must be modified to point to the folder where the cases are located (texts)"
   ]
  },
  {
   "cell_type": "code",
   "execution_count": 117,
   "metadata": {},
   "outputs": [],
   "source": [
    "def normalize_text(doc):         # taken from past problem set     see comment under question 3\n",
    "    tokens = []\n",
    "    for sent in doc.sents:\n",
    "        sent = str(sent)\n",
    "        sent = sent.replace('\\r', ' ').replace('\\n', ' ')\n",
    "        lower = sent.lower()\n",
    "        nopunc = lower.translate(translator)\n",
    "        words = nopunc.split()\n",
    "        nostop = [w for w in words if w not in stoplist]\n",
    "        no_numbers = [w if not w.isdigit() else '#' for w in nostop]\n",
    "        stemmed = [stemmer.stem(w) for w in no_numbers]\n",
    "        tokens += stemmed\n",
    "    return tokens\n"
   ]
  },
  {
   "cell_type": "code",
   "execution_count": 118,
   "metadata": {},
   "outputs": [],
   "source": [
    "random.seed(1234)\n",
    "sample_size = 1000  # limit the size of cases used. The entire corpus of 5700+ cases would take many hours to process. "
   ]
  },
  {
   "cell_type": "code",
   "execution_count": 119,
   "metadata": {},
   "outputs": [],
   "source": [
    "from datetime import datetime\n",
    "from datetime import timedelta\n",
    "\n",
    "td = timedelta (days = 0, hours =  2, minutes = 16)\n",
    "Anfang = datetime.now()\n",
    "Start = Anfang + td"
   ]
  },
  {
   "cell_type": "code",
   "execution_count": 120,
   "metadata": {},
   "outputs": [],
   "source": [
    "df = pd.DataFrame(index = range(0,0), columns=['jahr',  'rev', 'judge', 'jid', 'logcites', \\\n",
    "                                               'nsents', 'nwords', 'nnouns', 'nverbs', 'nadjes', \\\n",
    "                                               'cs', 'party', 'adjs'], dtype = int)     # \n",
    "df['judge'] = df['judge'].astype('object')       #   \n",
    "df['logcites'] = df['logcites'].astype('float64')        #\n",
    "df['adjs'] = df['adjs'].astype('object')    \n",
    "df['cs'] = df['cs'].astype('float64') \n",
    "for col in ['jahr',  'rev', 'jid', 'nsents', 'nwords', 'nnouns', 'nverbs', 'nadjes', 'party']:\n",
    "    df[col] = df[col].astype('int')"
   ]
  },
  {
   "cell_type": "code",
   "execution_count": 121,
   "metadata": {},
   "outputs": [
    {
     "name": "stdout",
     "output_type": "stream",
     "text": [
      "20190516 09:43:48  Start reading in metadata from case_metadata.csv\n",
      "20190516 09:44:43  done reading in metadata\n"
     ]
    }
   ],
   "source": [
    "print ((datetime.now()+td).strftime(\"%Y%m%d %H:%M:%S\") + \"  Start reading in metadata from case_metadata.csv\")\n",
    "#caseid,case_reversed,judge_id,year,x_republican,log_cites\n",
    "with open (mdfname) as fcrev:\n",
    "    readCSV = csv.reader(fcrev, delimiter = ',')\n",
    "    next(readCSV, None)   # skip 1 line, which is the header\n",
    "    for Zei in readCSV:\n",
    "        if Zei[4] == '1.0':\n",
    "            df.loc[Zei[0]] = [int(float(Zei[3])), Zei[1], ' ', int(float(Zei[2])), Zei[5], 0, 0, 0, 0, 0, 0, 1, [ ]]\n",
    "        elif Zei[4] == '0.0':\n",
    "            df.loc[Zei[0]] = [int(float(Zei[3])), Zei[1], ' ', int(float(Zei[2])), Zei[5], 0, 0, 0, 0, 0, 0, 0, [ ]]\n",
    " \n",
    "df['rev'] = df['rev'].astype('int')      #  \n",
    "print ((datetime.now()+td).strftime(\"%Y%m%d %H:%M:%S\") + \"  done reading in metadata\")\n"
   ]
  },
  {
   "cell_type": "code",
   "execution_count": 122,
   "metadata": {},
   "outputs": [
    {
     "data": {
      "text/html": [
       "<div>\n",
       "<style scoped>\n",
       "    .dataframe tbody tr th:only-of-type {\n",
       "        vertical-align: middle;\n",
       "    }\n",
       "\n",
       "    .dataframe tbody tr th {\n",
       "        vertical-align: top;\n",
       "    }\n",
       "\n",
       "    .dataframe thead th {\n",
       "        text-align: right;\n",
       "    }\n",
       "</style>\n",
       "<table border=\"1\" class=\"dataframe\">\n",
       "  <thead>\n",
       "    <tr style=\"text-align: right;\">\n",
       "      <th></th>\n",
       "      <th>jahr</th>\n",
       "      <th>rev</th>\n",
       "      <th>judge</th>\n",
       "      <th>jid</th>\n",
       "      <th>logcites</th>\n",
       "      <th>nsents</th>\n",
       "      <th>nwords</th>\n",
       "      <th>nnouns</th>\n",
       "      <th>nverbs</th>\n",
       "      <th>nadjes</th>\n",
       "      <th>cs</th>\n",
       "      <th>party</th>\n",
       "      <th>adjs</th>\n",
       "    </tr>\n",
       "  </thead>\n",
       "  <tbody>\n",
       "    <tr>\n",
       "      <th>X3JGGO</th>\n",
       "      <td>1925</td>\n",
       "      <td>0</td>\n",
       "      <td></td>\n",
       "      <td>1653</td>\n",
       "      <td>1.0986122886681098</td>\n",
       "      <td>0</td>\n",
       "      <td>0</td>\n",
       "      <td>0</td>\n",
       "      <td>0</td>\n",
       "      <td>0</td>\n",
       "      <td>0.0</td>\n",
       "      <td>1</td>\n",
       "      <td>[]</td>\n",
       "    </tr>\n",
       "    <tr>\n",
       "      <th>X3OH3J</th>\n",
       "      <td>1924</td>\n",
       "      <td>0</td>\n",
       "      <td></td>\n",
       "      <td>1034</td>\n",
       "      <td>1.6094379124341003</td>\n",
       "      <td>0</td>\n",
       "      <td>0</td>\n",
       "      <td>0</td>\n",
       "      <td>0</td>\n",
       "      <td>0</td>\n",
       "      <td>0.0</td>\n",
       "      <td>0</td>\n",
       "      <td>[]</td>\n",
       "    </tr>\n",
       "    <tr>\n",
       "      <th>X3U0KO</th>\n",
       "      <td>1925</td>\n",
       "      <td>0</td>\n",
       "      <td></td>\n",
       "      <td>2303</td>\n",
       "      <td>1.791759469228055</td>\n",
       "      <td>0</td>\n",
       "      <td>0</td>\n",
       "      <td>0</td>\n",
       "      <td>0</td>\n",
       "      <td>0</td>\n",
       "      <td>0.0</td>\n",
       "      <td>0</td>\n",
       "      <td>[]</td>\n",
       "    </tr>\n",
       "    <tr>\n",
       "      <th>X53HAD</th>\n",
       "      <td>1924</td>\n",
       "      <td>0</td>\n",
       "      <td></td>\n",
       "      <td>1764</td>\n",
       "      <td></td>\n",
       "      <td>0</td>\n",
       "      <td>0</td>\n",
       "      <td>0</td>\n",
       "      <td>0</td>\n",
       "      <td>0</td>\n",
       "      <td>0.0</td>\n",
       "      <td>0</td>\n",
       "      <td>[]</td>\n",
       "    </tr>\n",
       "    <tr>\n",
       "      <th>X9VC5V</th>\n",
       "      <td>1925</td>\n",
       "      <td>0</td>\n",
       "      <td></td>\n",
       "      <td>493</td>\n",
       "      <td></td>\n",
       "      <td>0</td>\n",
       "      <td>0</td>\n",
       "      <td>0</td>\n",
       "      <td>0</td>\n",
       "      <td>0</td>\n",
       "      <td>0.0</td>\n",
       "      <td>1</td>\n",
       "      <td>[]</td>\n",
       "    </tr>\n",
       "  </tbody>\n",
       "</table>\n",
       "</div>"
      ],
      "text/plain": [
       "        jahr  rev judge   jid            logcites  nsents  nwords  nnouns  \\\n",
       "X3JGGO  1925    0        1653  1.0986122886681098       0       0       0   \n",
       "X3OH3J  1924    0        1034  1.6094379124341003       0       0       0   \n",
       "X3U0KO  1925    0        2303   1.791759469228055       0       0       0   \n",
       "X53HAD  1924    0        1764                           0       0       0   \n",
       "X9VC5V  1925    0         493                           0       0       0   \n",
       "\n",
       "        nverbs  nadjes   cs  party adjs  \n",
       "X3JGGO       0       0  0.0      1   []  \n",
       "X3OH3J       0       0  0.0      0   []  \n",
       "X3U0KO       0       0  0.0      0   []  \n",
       "X53HAD       0       0  0.0      0   []  \n",
       "X9VC5V       0       0  0.0      1   []  "
      ]
     },
     "execution_count": 122,
     "metadata": {},
     "output_type": "execute_result"
    }
   ],
   "source": [
    "df.head()"
   ]
  },
  {
   "cell_type": "code",
   "execution_count": 123,
   "metadata": {},
   "outputs": [
    {
     "data": {
      "text/plain": [
       "jahr          int64\n",
       "rev           int64\n",
       "judge        object\n",
       "jid           int64\n",
       "logcites     object\n",
       "nsents        int64\n",
       "nwords        int64\n",
       "nnouns        int64\n",
       "nverbs        int64\n",
       "nadjes        int64\n",
       "cs          float64\n",
       "party         int64\n",
       "adjs         object\n",
       "dtype: object"
      ]
     },
     "execution_count": 123,
     "metadata": {},
     "output_type": "execute_result"
    }
   ],
   "source": [
    "df.dtypes"
   ]
  },
  {
   "cell_type": "code",
   "execution_count": 124,
   "metadata": {},
   "outputs": [
    {
     "data": {
      "text/plain": [
       "4867"
      ]
     },
     "execution_count": 124,
     "metadata": {},
     "output_type": "execute_result"
    }
   ],
   "source": [
    "len(df)  # cases where the pary affiliation is unknown are excluded"
   ]
  },
  {
   "cell_type": "code",
   "execution_count": 126,
   "metadata": {},
   "outputs": [],
   "source": [
    "from os import listdir\n",
    "from os.path import isfile, join\n",
    "\n",
    "fpath = '/home/xhta/Robot/cases/'       # !!!!!! this path must be modified to point to the folder where the cases are located (texts)\n",
    "fnames = [f for f in listdir(fpath) if isfile(f)]\n",
    "\n",
    "ldir = listdir(fpath)\n",
    "\n",
    "import spacy    #  initializing data structures used later\n",
    "from spacy.lang.en import English\n",
    "nlp = English()\n",
    "nlp.add_pipe(nlp.create_pipe('sentencizer'))\n",
    "\n",
    "nlp2 = spacy.load('en_core_web_sm')\n",
    "\n",
    "from nltk.sentiment import SentimentAnalyzer\n",
    "from nltk.sentiment.util import *\n",
    "from nltk.sentiment.vader import SentimentIntensityAnalyzer\n"
   ]
  },
  {
   "cell_type": "code",
   "execution_count": 135,
   "metadata": {},
   "outputs": [
    {
     "data": {
      "text/html": [
       "<div>\n",
       "<style scoped>\n",
       "    .dataframe tbody tr th:only-of-type {\n",
       "        vertical-align: middle;\n",
       "    }\n",
       "\n",
       "    .dataframe tbody tr th {\n",
       "        vertical-align: top;\n",
       "    }\n",
       "\n",
       "    .dataframe thead th {\n",
       "        text-align: right;\n",
       "    }\n",
       "</style>\n",
       "<table border=\"1\" class=\"dataframe\">\n",
       "  <thead>\n",
       "    <tr style=\"text-align: right;\">\n",
       "      <th></th>\n",
       "      <th>jahr</th>\n",
       "      <th>rev</th>\n",
       "      <th>judge</th>\n",
       "      <th>jid</th>\n",
       "      <th>logcites</th>\n",
       "      <th>nsents</th>\n",
       "      <th>nwords</th>\n",
       "      <th>nnouns</th>\n",
       "      <th>nverbs</th>\n",
       "      <th>nadjes</th>\n",
       "      <th>cs</th>\n",
       "      <th>party</th>\n",
       "      <th>adjs</th>\n",
       "    </tr>\n",
       "  </thead>\n",
       "  <tbody>\n",
       "    <tr>\n",
       "      <th>X32I8D</th>\n",
       "      <td>1990</td>\n",
       "      <td>0</td>\n",
       "      <td></td>\n",
       "      <td>2162</td>\n",
       "      <td>1.3862943611198906</td>\n",
       "      <td>0</td>\n",
       "      <td>0</td>\n",
       "      <td>0</td>\n",
       "      <td>0</td>\n",
       "      <td>0</td>\n",
       "      <td>0.0</td>\n",
       "      <td>1</td>\n",
       "      <td>[]</td>\n",
       "    </tr>\n",
       "    <tr>\n",
       "      <th>X47N90</th>\n",
       "      <td>1940</td>\n",
       "      <td>0</td>\n",
       "      <td></td>\n",
       "      <td>364</td>\n",
       "      <td>1.9459101490553132</td>\n",
       "      <td>0</td>\n",
       "      <td>0</td>\n",
       "      <td>0</td>\n",
       "      <td>0</td>\n",
       "      <td>0</td>\n",
       "      <td>0.0</td>\n",
       "      <td>0</td>\n",
       "      <td>[]</td>\n",
       "    </tr>\n",
       "    <tr>\n",
       "      <th>X3S5S6</th>\n",
       "      <td>1932</td>\n",
       "      <td>0</td>\n",
       "      <td></td>\n",
       "      <td>1951</td>\n",
       "      <td>2.772588722239781</td>\n",
       "      <td>0</td>\n",
       "      <td>0</td>\n",
       "      <td>0</td>\n",
       "      <td>0</td>\n",
       "      <td>0</td>\n",
       "      <td>0.0</td>\n",
       "      <td>1</td>\n",
       "      <td>[]</td>\n",
       "    </tr>\n",
       "    <tr>\n",
       "      <th>X4NT21</th>\n",
       "      <td>1995</td>\n",
       "      <td>1</td>\n",
       "      <td></td>\n",
       "      <td>1723</td>\n",
       "      <td>1.3862943611198906</td>\n",
       "      <td>0</td>\n",
       "      <td>0</td>\n",
       "      <td>0</td>\n",
       "      <td>0</td>\n",
       "      <td>0</td>\n",
       "      <td>0.0</td>\n",
       "      <td>0</td>\n",
       "      <td>[]</td>\n",
       "    </tr>\n",
       "    <tr>\n",
       "      <th>X49HMG</th>\n",
       "      <td>1972</td>\n",
       "      <td>0</td>\n",
       "      <td></td>\n",
       "      <td>2112</td>\n",
       "      <td>0.6931471805599453</td>\n",
       "      <td>0</td>\n",
       "      <td>0</td>\n",
       "      <td>0</td>\n",
       "      <td>0</td>\n",
       "      <td>0</td>\n",
       "      <td>0.0</td>\n",
       "      <td>1</td>\n",
       "      <td>[]</td>\n",
       "    </tr>\n",
       "  </tbody>\n",
       "</table>\n",
       "</div>"
      ],
      "text/plain": [
       "        jahr  rev judge   jid            logcites  nsents  nwords  nnouns  \\\n",
       "X32I8D  1990    0        2162  1.3862943611198906       0       0       0   \n",
       "X47N90  1940    0         364  1.9459101490553132       0       0       0   \n",
       "X3S5S6  1932    0        1951   2.772588722239781       0       0       0   \n",
       "X4NT21  1995    1        1723  1.3862943611198906       0       0       0   \n",
       "X49HMG  1972    0        2112  0.6931471805599453       0       0       0   \n",
       "\n",
       "        nverbs  nadjes   cs  party adjs  \n",
       "X32I8D       0       0  0.0      1   []  \n",
       "X47N90       0       0  0.0      0   []  \n",
       "X3S5S6       0       0  0.0      1   []  \n",
       "X4NT21       0       0  0.0      0   []  \n",
       "X49HMG       0       0  0.0      1   []  "
      ]
     },
     "execution_count": 135,
     "metadata": {},
     "output_type": "execute_result"
    }
   ],
   "source": [
    "df2 = df.sample(sample_size, random_state=1234)\n",
    "df2.head()\n",
    "# df = all cases except those where the party affiliation of the judge is missing\n",
    "# df2 = a sample of df  df has 4867 records, df2 has 1000, word embeddings are done using df2"
   ]
  },
  {
   "cell_type": "code",
   "execution_count": 131,
   "metadata": {},
   "outputs": [],
   "source": [
    "def preprocess (lsentences):  # get rid of tokens that are pure numbers or are on stoplist\n",
    "    lret = []\n",
    "    for sent in lsentences:\n",
    "        lret.append([w for w in sent if w not in stoplist if w.isdigit() == False])\n",
    "    return lret"
   ]
  },
  {
   "cell_type": "code",
   "execution_count": 110,
   "metadata": {},
   "outputs": [
    {
     "name": "stdout",
     "output_type": "stream",
     "text": [
      "[['went', 'home', 'work', '123']]\n"
     ]
    }
   ],
   "source": [
    "sent1 = get_sentences('I went home, after work  123.') \n",
    "print (sent1)"
   ]
  },
  {
   "cell_type": "code",
   "execution_count": 97,
   "metadata": {},
   "outputs": [
    {
     "name": "stdout",
     "output_type": "stream",
     "text": [
      "[['went', 'home', 'work']]\n"
     ]
    }
   ],
   "source": [
    "print(preprocess(sent1))  # sample"
   ]
  },
  {
   "cell_type": "code",
   "execution_count": 98,
   "metadata": {},
   "outputs": [
    {
     "name": "stdout",
     "output_type": "stream",
     "text": [
      "[['david', 'dicus', 'testifi', 'johnni', 'mcewan', 'said', 'union', 'come', 'fish', 'trip', 'would', 'gone'], ['would', 'never', 'good', 'rememb']]\n",
      "[['david', 'dicus', 'testifi', 'johnni', 'mcewan', 'said', 'union', 'come', 'fish', 'trip', 'would', 'gone'], ['would', 'never', 'good', 'rememb']]\n"
     ]
    }
   ],
   "source": [
    "sentences = get_sentences('David Dicus testified that Johnny McEwan said \"that if the union did come in, that our fishing trips would be \\\n",
    "gone. We would never have any more, and that is about as good as I can remember on the conversation then.\"')\n",
    "print(sentences)\n",
    "print(preprocess(sentences))"
   ]
  },
  {
   "cell_type": "code",
   "execution_count": 140,
   "metadata": {},
   "outputs": [
    {
     "name": "stdout",
     "output_type": "stream",
     "text": [
      "20190516_095132 i:  0\n",
      "20190516_095244 i:  29\n",
      "20190516_095439 i:  58\n",
      "20190516_095545 i:  87\n",
      "20190516_095637 i:  116\n",
      "20190516_095740 i:  145\n",
      "20190516_095917 i:  174\n",
      "20190516_100110 i:  203\n",
      "20190516_100208 i:  232\n",
      "20190516_100321 i:  261\n",
      "20190516_100409 i:  290\n",
      "20190516_100612 i:  319\n",
      "20190516_100740 i:  348\n",
      "20190516_100909 i:  377\n",
      "20190516_101021 i:  406\n",
      "20190516_101241 i:  435\n",
      "20190516_101358 i:  464\n",
      "20190516_101520 i:  493\n",
      "20190516_101745 i:  522\n",
      "20190516_101843 i:  551\n",
      "20190516_102010 i:  580\n",
      "20190516_102110 i:  609\n",
      "20190516_102440 i:  638\n",
      "20190516_102623 i:  667\n",
      "20190516_102731 i:  696\n",
      "20190516_102833 i:  725\n",
      "20190516_102933 i:  754\n",
      "20190516_103029 i:  783\n",
      "20190516_103200 i:  812\n",
      "20190516_103353 i:  841\n",
      "20190516_103613 i:  870\n",
      "20190516_103714 i:  899\n",
      "20190516_103805 i:  928\n",
      "20190516_103908 i:  957\n",
      "20190516_104013 i:  986\n"
     ]
    }
   ],
   "source": [
    "sentencesr = []\n",
    "sentencesd = []\n",
    "i = 0\n",
    "for fname in ldir:      # read in the document samples and populate the dataframe\n",
    "    lae = len(fname)\n",
    "    cname = fname[5:(lae-4)]\n",
    "    year = fname[0:4]\n",
    "    if (not (cname in df2.index)): continue\n",
    "    if ( i% 29 ==0):\n",
    "        je = datetime.now() + td\n",
    "        fje = je.strftime('%Y%m%d_%H%M%S')\n",
    "        pkl_fname = os.path.join(working_dir, '_' + str(sample_size) + '-' + fje + '.pkl')\n",
    "        #df2.to_pickle(pkl_fname, protocol = -1)\n",
    "        print(fje + \" i:  \" + str(i)) # serves as a \"progress bar\" when reading in a large no of docs\n",
    "    i = i + 1\n",
    "    fna2 = join(fpath, year + '_' + cname + '.txt')\n",
    "    rawtext = open(fna2).read()\n",
    "    doc = nlp(rawtext)\n",
    "                                \n",
    "    df2.at[cname, 'doc'] =  rawtext\n",
    "    df2.at[cname, 'leng'] =  len(rawtext)\n",
    "\n",
    "    sentences = [sent.string.strip() for sent in doc.sents]\n",
    "    df2.at[cname, 'nsents'] =  len(sentences)\n",
    "    df2.at[cname, 'nwords'] = len([token for token in doc if not token.is_punct])\n",
    "    \n",
    "    doc2 = nlp2(rawtext)\n",
    "    df2.at[cname, 'nnouns'] = len([w for w in list(doc2) if w.tag_.startswith('N')])     # PTB convention\n",
    "    df2.at[cname, 'nverbs'] = len([w for w in list(doc2) if w.tag_.startswith('V')])\n",
    "    \n",
    "    al = [w for w in list(doc2) if w.tag_.startswith('J')]\n",
    "    df2.at[cname, 'adjs'] = list(set(al))\n",
    " \n",
    "    rawsents = get_sentences(rawtext)\n",
    "    lsents = [ sent for sent in rawsents if len(sent) > 2 ]\n",
    "    if df2.loc[cname, 'party'] == 1:\n",
    "        sentencesr += preprocess(lsents)   # sentencesr are from the cases where judge = repub\n",
    "    elif df2.loc[cname, 'party'] == 0:\n",
    "        sentencesd += preprocess(lsents)  # sentencesr are from the cases where judge = democr\n",
    "                                \n",
    "    df2.at[cname, 'nadjes'] = len( df2.at[cname, 'adjs'])\n",
    "    #cltoks = normalize_text(doc2)\n",
    "    #ntoks = [str(token).lower() for token in list(doc2) if (token.tag_.startswith('N')) & (not token.is_punct) & (not token.is_space) & (not token.is_stop) & (str(token) in cltoks)]\n",
    "    \n",
    "    # get vaader sentiment score ('cs') to be used further down when doing 2 stage least square\n",
    "    # serves as a causal variable of interest that is affected by the instrument variable 'party affiliation'\n",
    "    # using sentiment score as a casual variable is here a matter of convenience\n",
    "    sid = SentimentIntensityAnalyzer()\n",
    "    ss = sid.polarity_scores(rawtext)\n",
    "    df2.at[cname, 'cs'] = ss['compound']\n",
    "    # the IV 'party' is correlated with the causal variable 'cs' (vader sentiment score)\n",
    "    # the IV can only affect the outcome (logcites or reversal) through the cs which acts\n",
    "    # as a textual feature\n"
   ]
  },
  {
   "cell_type": "code",
   "execution_count": 142,
   "metadata": {},
   "outputs": [
    {
     "data": {
      "text/html": [
       "<div>\n",
       "<style scoped>\n",
       "    .dataframe tbody tr th:only-of-type {\n",
       "        vertical-align: middle;\n",
       "    }\n",
       "\n",
       "    .dataframe tbody tr th {\n",
       "        vertical-align: top;\n",
       "    }\n",
       "\n",
       "    .dataframe thead th {\n",
       "        text-align: right;\n",
       "    }\n",
       "</style>\n",
       "<table border=\"1\" class=\"dataframe\">\n",
       "  <thead>\n",
       "    <tr style=\"text-align: right;\">\n",
       "      <th></th>\n",
       "      <th>jahr</th>\n",
       "      <th>rev</th>\n",
       "      <th>judge</th>\n",
       "      <th>jid</th>\n",
       "      <th>logcites</th>\n",
       "      <th>nsents</th>\n",
       "      <th>nwords</th>\n",
       "      <th>nnouns</th>\n",
       "      <th>nverbs</th>\n",
       "      <th>nadjes</th>\n",
       "      <th>cs</th>\n",
       "      <th>party</th>\n",
       "      <th>adjs</th>\n",
       "      <th>doc</th>\n",
       "      <th>leng</th>\n",
       "    </tr>\n",
       "  </thead>\n",
       "  <tbody>\n",
       "    <tr>\n",
       "      <th>X32I8D</th>\n",
       "      <td>1990</td>\n",
       "      <td>0</td>\n",
       "      <td></td>\n",
       "      <td>2162</td>\n",
       "      <td>1.3862943611198906</td>\n",
       "      <td>371</td>\n",
       "      <td>7784</td>\n",
       "      <td>2504</td>\n",
       "      <td>1077</td>\n",
       "      <td>387</td>\n",
       "      <td>0.9996</td>\n",
       "      <td>1</td>\n",
       "      <td>[absolute, pursuant, civil, material, only, su...</td>\n",
       "      <td>WALLACE , Circuit Judge: Yakima County appeal...</td>\n",
       "      <td>45073.0</td>\n",
       "    </tr>\n",
       "    <tr>\n",
       "      <th>X47N90</th>\n",
       "      <td>1940</td>\n",
       "      <td>0</td>\n",
       "      <td></td>\n",
       "      <td>364</td>\n",
       "      <td>1.9459101490553132</td>\n",
       "      <td>97</td>\n",
       "      <td>1995</td>\n",
       "      <td>612</td>\n",
       "      <td>282</td>\n",
       "      <td>131</td>\n",
       "      <td>0.9986</td>\n",
       "      <td>0</td>\n",
       "      <td>[proper, usual, concerted, unpatented, further...</td>\n",
       "      <td>CLARK , Circuit Judge.\\nThis is a petition by...</td>\n",
       "      <td>11401.0</td>\n",
       "    </tr>\n",
       "    <tr>\n",
       "      <th>X3S5S6</th>\n",
       "      <td>1932</td>\n",
       "      <td>0</td>\n",
       "      <td></td>\n",
       "      <td>1951</td>\n",
       "      <td>2.772588722239781</td>\n",
       "      <td>218</td>\n",
       "      <td>6196</td>\n",
       "      <td>1850</td>\n",
       "      <td>863</td>\n",
       "      <td>249</td>\n",
       "      <td>0.9995</td>\n",
       "      <td>1</td>\n",
       "      <td>[additional, Feather, same, internal, severe, ...</td>\n",
       "      <td>SOPER , Circuit Judge.\\nBankers' Pocahontas C...</td>\n",
       "      <td>34110.0</td>\n",
       "    </tr>\n",
       "    <tr>\n",
       "      <th>X4NT21</th>\n",
       "      <td>1995</td>\n",
       "      <td>1</td>\n",
       "      <td></td>\n",
       "      <td>1723</td>\n",
       "      <td>1.3862943611198906</td>\n",
       "      <td>366</td>\n",
       "      <td>8013</td>\n",
       "      <td>2526</td>\n",
       "      <td>1148</td>\n",
       "      <td>589</td>\n",
       "      <td>0.9998</td>\n",
       "      <td>0</td>\n",
       "      <td>[civil, asserted, narrow, periodic, comprehens...</td>\n",
       "      <td>REINHARDT , Circuit Judge: This case involves...</td>\n",
       "      <td>48534.0</td>\n",
       "    </tr>\n",
       "    <tr>\n",
       "      <th>X49HMG</th>\n",
       "      <td>1972</td>\n",
       "      <td>0</td>\n",
       "      <td></td>\n",
       "      <td>2112</td>\n",
       "      <td>0.6931471805599453</td>\n",
       "      <td>54</td>\n",
       "      <td>1711</td>\n",
       "      <td>507</td>\n",
       "      <td>231</td>\n",
       "      <td>76</td>\n",
       "      <td>-0.9558</td>\n",
       "      <td>1</td>\n",
       "      <td>[criminal, criminal, oral, such, criminal, par...</td>\n",
       "      <td>TUTTLE , Circuit Judge: The United States app...</td>\n",
       "      <td>9831.0</td>\n",
       "    </tr>\n",
       "  </tbody>\n",
       "</table>\n",
       "</div>"
      ],
      "text/plain": [
       "        jahr  rev judge   jid            logcites  nsents  nwords  nnouns  \\\n",
       "X32I8D  1990    0        2162  1.3862943611198906     371    7784    2504   \n",
       "X47N90  1940    0         364  1.9459101490553132      97    1995     612   \n",
       "X3S5S6  1932    0        1951   2.772588722239781     218    6196    1850   \n",
       "X4NT21  1995    1        1723  1.3862943611198906     366    8013    2526   \n",
       "X49HMG  1972    0        2112  0.6931471805599453      54    1711     507   \n",
       "\n",
       "        nverbs  nadjes      cs  party  \\\n",
       "X32I8D    1077     387  0.9996      1   \n",
       "X47N90     282     131  0.9986      0   \n",
       "X3S5S6     863     249  0.9995      1   \n",
       "X4NT21    1148     589  0.9998      0   \n",
       "X49HMG     231      76 -0.9558      1   \n",
       "\n",
       "                                                     adjs  \\\n",
       "X32I8D  [absolute, pursuant, civil, material, only, su...   \n",
       "X47N90  [proper, usual, concerted, unpatented, further...   \n",
       "X3S5S6  [additional, Feather, same, internal, severe, ...   \n",
       "X4NT21  [civil, asserted, narrow, periodic, comprehens...   \n",
       "X49HMG  [criminal, criminal, oral, such, criminal, par...   \n",
       "\n",
       "                                                      doc     leng  \n",
       "X32I8D   WALLACE , Circuit Judge: Yakima County appeal...  45073.0  \n",
       "X47N90   CLARK , Circuit Judge.\\nThis is a petition by...  11401.0  \n",
       "X3S5S6   SOPER , Circuit Judge.\\nBankers' Pocahontas C...  34110.0  \n",
       "X4NT21   REINHARDT , Circuit Judge: This case involves...  48534.0  \n",
       "X49HMG   TUTTLE , Circuit Judge: The United States app...   9831.0  "
      ]
     },
     "execution_count": 142,
     "metadata": {},
     "output_type": "execute_result"
    }
   ],
   "source": [
    "df2.head()"
   ]
  },
  {
   "cell_type": "code",
   "execution_count": 257,
   "metadata": {},
   "outputs": [
    {
     "data": {
      "text/plain": [
       "[criminal,\n",
       " criminal,\n",
       " oral,\n",
       " such,\n",
       " criminal,\n",
       " particular,\n",
       " determinative,\n",
       " criminal,\n",
       " collateral,\n",
       " prior,\n",
       " negligent,\n",
       " small,\n",
       " necessary,\n",
       " foreign,\n",
       " former,\n",
       " knowing,\n",
       " careful,\n",
       " fraudulent,\n",
       " criminal,\n",
       " criminal,\n",
       " criminal,\n",
       " criminal,\n",
       " separate,\n",
       " reasonable,\n",
       " reasonable,\n",
       " criminal,\n",
       " certain,\n",
       " punitive,\n",
       " previous,\n",
       " constitute,\n",
       " appropriate,\n",
       " only,\n",
       " remedial,\n",
       " plain,\n",
       " 5th,\n",
       " same,\n",
       " few,\n",
       " possible,\n",
       " such,\n",
       " clear,\n",
       " same,\n",
       " innocent,\n",
       " subject,\n",
       " punitive,\n",
       " earlier,\n",
       " punitive,\n",
       " clandestine,\n",
       " identical,\n",
       " same,\n",
       " criminal,\n",
       " same,\n",
       " clear,\n",
       " willful,\n",
       " guilty,\n",
       " such,\n",
       " necessary,\n",
       " entire,\n",
       " more,\n",
       " Honorable,\n",
       " domestic,\n",
       " different,\n",
       " willful,\n",
       " essential,\n",
       " earlier,\n",
       " intent,\n",
       " same,\n",
       " same,\n",
       " above,\n",
       " less,\n",
       " same,\n",
       " necessary,\n",
       " subject,\n",
       " simple,\n",
       " acquittal,\n",
       " criminal,\n",
       " prior]"
      ]
     },
     "execution_count": 257,
     "metadata": {},
     "output_type": "execute_result"
    }
   ],
   "source": [
    "df2.loc['X49HMG', 'adjs']"
   ]
  },
  {
   "cell_type": "code",
   "execution_count": null,
   "metadata": {},
   "outputs": [],
   "source": [
    "# question one : train 2 Word2Vec embeddings on the cases corpus using gensim \n",
    "# setting the window length to 2 and to 10 , dimension of vectors is set to 150"
   ]
  },
  {
   "cell_type": "code",
   "execution_count": null,
   "metadata": {},
   "outputs": [],
   "source": [
    "# fill a column with the adjectives because later in question 2, one is asked to find\n",
    "# the nearest neighbors of some adjectives in the word embeddings"
   ]
  },
  {
   "cell_type": "code",
   "execution_count": 144,
   "metadata": {},
   "outputs": [],
   "source": [
    "sentences = sentencesr + sentencesd"
   ]
  },
  {
   "cell_type": "code",
   "execution_count": 145,
   "metadata": {},
   "outputs": [
    {
     "data": {
      "text/plain": [
       "(69634, 74871, 144505)"
      ]
     },
     "execution_count": 145,
     "metadata": {},
     "output_type": "execute_result"
    }
   ],
   "source": [
    "len(sentencesr)  , len(sentencesd), len(sentences)"
   ]
  },
  {
   "cell_type": "code",
   "execution_count": 146,
   "metadata": {},
   "outputs": [],
   "source": [
    "import gensim\n",
    "from gensim.models import KeyedVectors\n",
    "mymodel2 = gensim.models.Word2Vec(sentences, size = 300, window = 2, min_count = 10, workers = 4, sample = 1e-3)\n",
    "mymodel10 = gensim.models.Word2Vec(sentences, size = 300, window = 10, min_count = 10, workers = 4, sample = 1e-3)\n"
   ]
  },
  {
   "cell_type": "code",
   "execution_count": null,
   "metadata": {},
   "outputs": [],
   "source": [
    "# the following shows the effect of window size. \n",
    "# A larger window size would make more words available to become \"similar\" / \"related\" to \n",
    "# the word in focus. Hence a larger window size would capture a broader sense of relatedness, \n",
    "# i.e. topical relatedness (big picture) while a small window\n",
    "# size would capture local similarity (word to word). For texts that are made up of long sentenes,\n",
    "# of which legal texts are a candidate, choosing a long window might be more appropriate.\n",
    "# Shorter window length might be more appropriate for short sentences (e.g. SMS, tweets)"
   ]
  },
  {
   "cell_type": "code",
   "execution_count": 147,
   "metadata": {
    "scrolled": true
   },
   "outputs": [
    {
     "data": {
      "text/plain": [
       "[('pregnant', 0.8464378118515015),\n",
       " ('shoulder', 0.8347693085670471),\n",
       " ('flee', 0.8277795314788818),\n",
       " ('ride', 0.8176820874214172),\n",
       " ('leg', 0.8118417263031006),\n",
       " ('wound', 0.8108552098274231),\n",
       " ('fighter', 0.809969425201416),\n",
       " ('resign', 0.8094642162322998),\n",
       " ('preschool', 0.8091839551925659),\n",
       " ('enlist', 0.8064537048339844)]"
      ]
     },
     "execution_count": 147,
     "metadata": {},
     "output_type": "execute_result"
    }
   ],
   "source": [
    "mymodel2.wv.most_similar('woman')  # window size 2\n"
   ]
  },
  {
   "cell_type": "code",
   "execution_count": 148,
   "metadata": {},
   "outputs": [
    {
     "data": {
      "text/plain": [
       "[('girl', 0.8440597057342529),\n",
       " ('leader', 0.8268359899520874),\n",
       " ('front', 0.8213064670562744),\n",
       " ('locker', 0.8201465606689453),\n",
       " ('enlist', 0.8198788166046143),\n",
       " ('chapel', 0.8194998502731323),\n",
       " ('matron', 0.8184630870819092),\n",
       " ('wore', 0.8166310787200928),\n",
       " ('holiday', 0.8158475756645203),\n",
       " ('negro', 0.8056079149246216)]"
      ]
     },
     "execution_count": 148,
     "metadata": {},
     "output_type": "execute_result"
    }
   ],
   "source": [
    "mymodel10.wv.most_similar('woman')    # window size 10"
   ]
  },
  {
   "cell_type": "code",
   "execution_count": 149,
   "metadata": {},
   "outputs": [
    {
     "data": {
      "text/plain": [
       "[('bacteria', 0.8052197694778442),\n",
       " ('kill', 0.7887599468231201),\n",
       " ('flee', 0.7730388641357422),\n",
       " ('gun', 0.7705869078636169),\n",
       " ('hit', 0.7685096263885498),\n",
       " ('detect', 0.7676072120666504),\n",
       " ('babi', 0.7663434147834778),\n",
       " ('suspect', 0.7652333378791809),\n",
       " ('explos', 0.7633503079414368),\n",
       " ('garment', 0.7597878575325012)]"
      ]
     },
     "execution_count": 149,
     "metadata": {},
     "output_type": "execute_result"
    }
   ],
   "source": [
    "mymodel2.wv.most_similar('man')    # window size 2"
   ]
  },
  {
   "cell_type": "code",
   "execution_count": 150,
   "metadata": {},
   "outputs": [
    {
     "data": {
      "text/plain": [
       "[('gun', 0.8846523761749268),\n",
       " ('room', 0.8698497414588928),\n",
       " ('saw', 0.8650979399681091),\n",
       " ('drive', 0.8642926812171936),\n",
       " ('hit', 0.8587425947189331),\n",
       " ('break', 0.8579410314559937),\n",
       " ('apart', 0.8521554470062256),\n",
       " ('scene', 0.8489221930503845),\n",
       " ('away', 0.848011314868927),\n",
       " ('door', 0.8459398746490479)]"
      ]
     },
     "execution_count": 150,
     "metadata": {},
     "output_type": "execute_result"
    }
   ],
   "source": [
    "mymodel10.wv.most_similar('man')   # window size 10"
   ]
  },
  {
   "cell_type": "code",
   "execution_count": null,
   "metadata": {},
   "outputs": [],
   "source": [
    "import pickle\n",
    "df2.to_pickle(\"p3_df2_1000_20190516_0647.pkl\", compression=\"gzip\", protocol=-1)"
   ]
  },
  {
   "cell_type": "code",
   "execution_count": 151,
   "metadata": {},
   "outputs": [
    {
     "name": "stderr",
     "output_type": "stream",
     "text": [
      "/home/xhta/anaconda3/lib/python3.5/site-packages/ipykernel_launcher.py:1: DeprecationWarning: Call to deprecated `__getitem__` (Method will be removed in 4.0.0, use self.wv.__getitem__() instead).\n",
      "  \"\"\"Entry point for launching an IPython kernel.\n",
      "/home/xhta/anaconda3/lib/python3.5/site-packages/ipykernel_launcher.py:2: DeprecationWarning: Call to deprecated `__getitem__` (Method will be removed in 4.0.0, use self.wv.__getitem__() instead).\n",
      "  \n"
     ]
    }
   ],
   "source": [
    "X2 = mymodel2[mymodel2.wv.vocab]\n",
    "X10 = mymodel10[mymodel10.wv.vocab]\n",
    "from sklearn.decomposition import PCA\n",
    "import matplotlib.pyplot as plt\n"
   ]
  },
  {
   "cell_type": "code",
   "execution_count": null,
   "metadata": {},
   "outputs": [],
   "source": [
    "# pick a sample of 100 words and visualize them in a 2 dimensional coordinate, after running the\n",
    "# high dimensional word vectors through a PCA  , extracting 2 principal components"
   ]
  },
  {
   "cell_type": "code",
   "execution_count": 152,
   "metadata": {},
   "outputs": [
    {
     "data": {
      "image/png": "[encoded data removed]",
      "text/plain": [
       "<Figure size 432x288 with 1 Axes>"
      ]
     },
     "metadata": {
      "needs_background": "light"
     },
     "output_type": "display_data"
    }
   ],
   "source": [
    "pca2 = PCA(n_components=2)              # window size 2\n",
    "result2 = pca2.fit_transform(X2)\n",
    "plt.scatter(result2[0:100,0], result2[0:100,1])\n",
    "words2 = list(mymodel2.wv.vocab)\n",
    "for i in range(100):\n",
    "    #isampl = random.sample(range(len(words2)), 1)\n",
    "    isampl = random.sample(range(100), 1)\n",
    "    plt.annotate(words2[isampl[0]], xy=(result2[isampl[0], 0], result2[isampl[0], 1]))\n",
    "\n",
    "#for i, word in enumerate(words[0:50]):\n",
    "#    plt.annotate(word, xy=(result[i, 0], result[i, 1]))\n",
    "\n",
    "plt.show()\n",
    "\n",
    "# the plots without any tweaking look as follows   larger window size seems lead to larger clusters"
   ]
  },
  {
   "cell_type": "code",
   "execution_count": 154,
   "metadata": {},
   "outputs": [
    {
     "data": {
      "image/png": "[encoded data removed]",
      "text/plain": [
       "<Figure size 432x288 with 1 Axes>"
      ]
     },
     "metadata": {
      "needs_background": "light"
     },
     "output_type": "display_data"
    }
   ],
   "source": [
    "pca10 = PCA(n_components=2)             # window size 10\n",
    "result10 = pca10.fit_transform(X10)\n",
    "plt.scatter(result10[0:100,0], result10[0:100,1])\n",
    "words10 = list(mymodel10.wv.vocab)\n",
    "for i in range(100):\n",
    "    #isampl = random.sample(range(len(words2)), 1)\n",
    "    isampl = random.sample(range(100), 1)\n",
    "    plt.annotate(words10[isampl[0]], xy=(result10[isampl[0], 0], result10[isampl[0], 1]))\n",
    "\n",
    "#for i, word in enumerate(words[0:50]):\n",
    "#    plt.annotate(word, xy=(result[i, 0], result[i, 1]))\n",
    "\n",
    "plt.show()"
   ]
  },
  {
   "cell_type": "code",
   "execution_count": 158,
   "metadata": {},
   "outputs": [],
   "source": [
    "with open(\"/home/xhta/Robot/problemsets/prob3/sentencesr_20190516_1051.pkl\", \"wb\") as fcr:\n",
    "    pickle.dump(sentencesr, fcr)"
   ]
  },
  {
   "cell_type": "code",
   "execution_count": 161,
   "metadata": {},
   "outputs": [],
   "source": [
    "with open(\"/home/xhta/Robot/problemsets/prob3/sentencesd_20190516_1054.pkl\", \"wb\") as fcd:\n",
    "    pickle.dump(sentencesd, fcd)"
   ]
  },
  {
   "cell_type": "code",
   "execution_count": null,
   "metadata": {},
   "outputs": [],
   "source": [
    "with open(\"/home/xhta/Robot/problemsets/prob3/p3_df2_1000_20190516_1055.pkl\", \"wb\") as fcdf2:\n",
    "    pickle.dump(df2, fcdf2)"
   ]
  },
  {
   "cell_type": "code",
   "execution_count": null,
   "metadata": {},
   "outputs": [],
   "source": [
    "df2.to_pickle(\"/home/xhta/Robot/problemsets/prob3/p3_df_full.20190516_1056.pl\", compression=\"gzip\", protocol=4)"
   ]
  },
  {
   "cell_type": "code",
   "execution_count": null,
   "metadata": {},
   "outputs": [],
   "source": [
    "pickle.dump(dfs, open(\"/home/xhta/Robot/problemsets/prob3/p3_df_full.20190515_084105.pkl\", \"wb\"))"
   ]
  },
  {
   "cell_type": "code",
   "execution_count": null,
   "metadata": {},
   "outputs": [],
   "source": [
    "# Quesition two \n",
    "# train word embeddings separately for republican (list 'sentencesr') \n",
    "# and democratic (list 'sentencesd') judges "
   ]
  },
  {
   "cell_type": "code",
   "execution_count": 164,
   "metadata": {},
   "outputs": [
    {
     "name": "stderr",
     "output_type": "stream",
     "text": [
      "/home/xhta/anaconda3/lib/python3.5/site-packages/ipykernel_launcher.py:4: DeprecationWarning: Call to deprecated `__getitem__` (Method will be removed in 4.0.0, use self.wv.__getitem__() instead).\n",
      "  after removing the cwd from sys.path.\n",
      "/home/xhta/anaconda3/lib/python3.5/site-packages/ipykernel_launcher.py:5: DeprecationWarning: Call to deprecated `__getitem__` (Method will be removed in 4.0.0, use self.wv.__getitem__() instead).\n",
      "  \"\"\"\n"
     ]
    }
   ],
   "source": [
    "mymodelr = gensim.models.Word2Vec(sentencesr, size = 150, window = 6, min_count = 2)\n",
    "mymodeld = gensim.models.Word2Vec(sentencesd, size = 150, window = 6, min_count = 2)\n",
    "\n",
    "Xr = mymodelr[mymodelr.wv.vocab]\n",
    "Xd = mymodeld[mymodeld.wv.vocab]\n"
   ]
  },
  {
   "cell_type": "code",
   "execution_count": 165,
   "metadata": {},
   "outputs": [
    {
     "data": {
      "text/plain": [
       "[('expens', 0.9561559557914734),\n",
       " ('incur', 0.9524948596954346),\n",
       " ('sum', 0.9478408098220825),\n",
       " ('owe', 0.93878573179245),\n",
       " ('loss', 0.9325723052024841),\n",
       " ('debt', 0.9266415238380432),\n",
       " ('paid', 0.9265156388282776),\n",
       " ('payment', 0.9204854965209961),\n",
       " ('dividend', 0.9191948175430298),\n",
       " ('excess', 0.9111289381980896)]"
      ]
     },
     "execution_count": 165,
     "metadata": {},
     "output_type": "execute_result"
    }
   ],
   "source": [
    "mymodelr.wv.most_similar('money')   # model trained on texts of republican judges"
   ]
  },
  {
   "cell_type": "code",
   "execution_count": 166,
   "metadata": {},
   "outputs": [
    {
     "data": {
      "text/plain": [
       "[('total', 0.9465599656105042),\n",
       " ('account', 0.9367753267288208),\n",
       " ('million', 0.9213858246803284),\n",
       " ('recaptur', 0.9169530868530273),\n",
       " ('expens', 0.9164575934410095),\n",
       " ('asset', 0.907965898513794),\n",
       " ('profit', 0.9038417935371399),\n",
       " ('gain', 0.9029420614242554),\n",
       " ('incur', 0.9025470614433289),\n",
       " ('cash', 0.901752233505249)]"
      ]
     },
     "execution_count": 166,
     "metadata": {},
     "output_type": "execute_result"
    }
   ],
   "source": [
    "mymodeld.wv.most_similar('money')   # model trained on texts of democratic judges"
   ]
  },
  {
   "cell_type": "code",
   "execution_count": 167,
   "metadata": {},
   "outputs": [
    {
     "data": {
      "text/plain": [
       "[('railway', 0.8543978333473206),\n",
       " ('nation', 0.8511663675308228),\n",
       " ('8a', 0.8158342242240906),\n",
       " ('railroad', 0.8017300367355347),\n",
       " ('picket', 0.7764107584953308),\n",
       " ('unfair', 0.7633390426635742),\n",
       " ('relat', 0.7543395757675171),\n",
       " ('union', 0.7421663999557495),\n",
       " ('commerc', 0.7395340800285339),\n",
       " ('health', 0.7300494313240051)]"
      ]
     },
     "execution_count": 167,
     "metadata": {},
     "output_type": "execute_result"
    }
   ],
   "source": [
    "mymodelr.wv.most_similar('labor')  # adjectives associated with democratic"
   ]
  },
  {
   "cell_type": "code",
   "execution_count": 168,
   "metadata": {},
   "outputs": [
    {
     "data": {
      "text/plain": [
       "[('unfair', 0.8683746457099915),\n",
       " ('nuton', 0.8197751045227051),\n",
       " ('practic', 0.8134739995002747),\n",
       " ('nation', 0.8021470308303833),\n",
       " ('relat', 0.7899655699729919),\n",
       " ('woodwork', 0.7887427806854248),\n",
       " ('railway', 0.76778644323349),\n",
       " ('wagner', 0.7631082534790039),\n",
       " ('ila', 0.7424134016036987),\n",
       " ('8a', 0.7390286922454834)]"
      ]
     },
     "execution_count": 168,
     "metadata": {},
     "output_type": "execute_result"
    }
   ],
   "source": [
    "mymodeld.wv.most_similar('labor')  # adjectives associated with democratic"
   ]
  },
  {
   "cell_type": "code",
   "execution_count": 169,
   "metadata": {},
   "outputs": [
    {
     "data": {
      "text/plain": [
       "[('balanc', 0.9087457060813904),\n",
       " ('treatment', 0.9050480127334595),\n",
       " ('mere', 0.8992576003074646),\n",
       " ('unabl', 0.8883326649665833),\n",
       " ('whatev', 0.886448085308075),\n",
       " ('racial', 0.8859272599220276),\n",
       " ('serious', 0.8841539025306702),\n",
       " ('alon', 0.8815022110939026),\n",
       " ('justifi', 0.8811771869659424),\n",
       " ('either', 0.8800297379493713)]"
      ]
     },
     "execution_count": 169,
     "metadata": {},
     "output_type": "execute_result"
    }
   ],
   "source": [
    "mymodelr.wv.most_similar('fair')  # adjectives associated with republican"
   ]
  },
  {
   "cell_type": "code",
   "execution_count": 170,
   "metadata": {},
   "outputs": [
    {
     "data": {
      "text/plain": [
       "[('possibl', 0.8671642541885376),\n",
       " ('need', 0.8501968383789062),\n",
       " ('essenti', 0.8444393277168274),\n",
       " ('dilig', 0.8433529734611511),\n",
       " ('enough', 0.8425250053405762),\n",
       " ('impact', 0.8408751487731934),\n",
       " ('kind', 0.8376089930534363),\n",
       " ('necessari', 0.8362948894500732),\n",
       " ('necess', 0.8348177075386047),\n",
       " ('beyond', 0.8346182107925415)]"
      ]
     },
     "execution_count": 170,
     "metadata": {},
     "output_type": "execute_result"
    }
   ],
   "source": [
    "mymodeld.wv.most_similar('fair')  # adjective associated with democratic"
   ]
  },
  {
   "cell_type": "code",
   "execution_count": 171,
   "metadata": {},
   "outputs": [
    {
     "data": {
      "text/plain": [
       "[('wellb', 0.9505077600479126),\n",
       " ('sewag', 0.9436139464378357),\n",
       " ('misde', 0.9397480487823486),\n",
       " ('fring', 0.9306802749633789),\n",
       " ('obligor', 0.9220919609069824),\n",
       " ('children', 0.9214077591896057),\n",
       " ('destroy', 0.92124342918396),\n",
       " ('mpp', 0.9209011793136597),\n",
       " ('shield', 0.9196289777755737),\n",
       " ('andor', 0.9189792275428772)]"
      ]
     },
     "execution_count": 171,
     "metadata": {},
     "output_type": "execute_result"
    }
   ],
   "source": [
    "mymodelr.wv.most_similar('social')   # adjective associated with republican"
   ]
  },
  {
   "cell_type": "code",
   "execution_count": 172,
   "metadata": {},
   "outputs": [
    {
     "data": {
      "text/plain": [
       "[('secur', 0.8898752927780151),\n",
       " ('self', 0.8827425837516785),\n",
       " ('affair', 0.8737537860870361),\n",
       " ('reform', 0.8693045377731323),\n",
       " ('emerg', 0.867165744304657),\n",
       " ('war', 0.8588572144508362),\n",
       " ('veteran', 0.8582143187522888),\n",
       " ('religion', 0.8570960164070129),\n",
       " ('8c1', 0.8503335118293762),\n",
       " ('guard', 0.8462868928909302)]"
      ]
     },
     "execution_count": 172,
     "metadata": {},
     "output_type": "execute_result"
    }
   ],
   "source": [
    "mymodeld.wv.most_similar('social')   # adjective associated with democratic"
   ]
  },
  {
   "cell_type": "code",
   "execution_count": 181,
   "metadata": {},
   "outputs": [
    {
     "data": {
      "text/plain": [
       "[('executrix', 0.9692068696022034),\n",
       " ('quitclaim', 0.9625234007835388),\n",
       " ('motorship', 0.9597534537315369),\n",
       " ('laden', 0.957137942314148),\n",
       " ('del', 0.9568247199058533),\n",
       " ('devise', 0.9561384320259094),\n",
       " ('via', 0.9558252692222595),\n",
       " ('mcmanus', 0.955203115940094),\n",
       " ('overdu', 0.9548380374908447),\n",
       " ('wabasha', 0.9546806812286377)]"
      ]
     },
     "execution_count": 181,
     "metadata": {},
     "output_type": "execute_result"
    }
   ],
   "source": [
    "mymodelr.wv.most_similar('conserv')   # adjective associated with republican"
   ]
  },
  {
   "cell_type": "code",
   "execution_count": 176,
   "metadata": {},
   "outputs": [],
   "source": [
    "from gensim.models import FastText\n",
    "fasttext_r = FastText(sentencesr, size=300, window = 6, min_count= 10)\n",
    "fasttext_d = FastText(sentencesd, size=300, window = 6, min_count= 10)"
   ]
  },
  {
   "cell_type": "code",
   "execution_count": 179,
   "metadata": {},
   "outputs": [
    {
     "data": {
      "text/plain": [
       "[('flaw', 0.913240373134613),\n",
       " ('law', 0.8868433237075806),\n",
       " ('governor', 0.8852859735488892),\n",
       " ('commonlaw', 0.8805171251296997),\n",
       " ('lawrenc', 0.8642091751098633),\n",
       " ('govern', 0.8635423183441162),\n",
       " ('uaw', 0.8570410013198853),\n",
       " ('antitrust', 0.8539235591888428),\n",
       " ('broader', 0.8354189991950989),\n",
       " ('amici', 0.8275891542434692)]"
      ]
     },
     "execution_count": 179,
     "metadata": {},
     "output_type": "execute_result"
    }
   ],
   "source": [
    "fasttext_r.wv.most_similar('lawful')   # adjective associated with republican"
   ]
  },
  {
   "cell_type": "code",
   "execution_count": 178,
   "metadata": {},
   "outputs": [
    {
     "data": {
      "text/plain": [
       "[('immun', 0.7519466876983643),\n",
       " ('sovereign', 0.6911687850952148),\n",
       " ('imbal', 0.6730690002441406),\n",
       " ('free', 0.670250654220581),\n",
       " ('privat', 0.6697605848312378),\n",
       " ('privaci', 0.6638749837875366),\n",
       " ('freez', 0.6518279314041138),\n",
       " ('amici', 0.6507158875465393),\n",
       " ('scope', 0.6502439975738525),\n",
       " ('civil', 0.6472489833831787)]"
      ]
     },
     "execution_count": 178,
     "metadata": {},
     "output_type": "execute_result"
    }
   ],
   "source": [
    "fasttext_d.wv.most_similar('liberal')  # adjective associated with democratic"
   ]
  },
  {
   "cell_type": "code",
   "execution_count": 259,
   "metadata": {},
   "outputs": [
    {
     "data": {
      "text/plain": [
       "[('freez', 0.9751982092857361),\n",
       " ('freedom', 0.959705114364624),\n",
       " ('freeli', 0.9287161827087402),\n",
       " ('speech', 0.8962064981460571),\n",
       " ('freedman', 0.882703423500061),\n",
       " ('fresh', 0.8487541675567627),\n",
       " ('protect', 0.8313462138175964),\n",
       " ('speed', 0.785627007484436),\n",
       " ('french', 0.7776853442192078),\n",
       " ('choos', 0.7726914882659912)]"
      ]
     },
     "execution_count": 259,
     "metadata": {},
     "output_type": "execute_result"
    }
   ],
   "source": [
    "fasttext_d.wv.most_similar('free')   # adjective associated with democratic"
   ]
  },
  {
   "cell_type": "code",
   "execution_count": 260,
   "metadata": {},
   "outputs": [
    {
     "data": {
      "text/plain": [
       "[('children', 0.9575172662734985),\n",
       " ('chill', 0.9087114334106445),\n",
       " ('video', 0.8326703310012817),\n",
       " ('garag', 0.8227871060371399),\n",
       " ('area', 0.8202450275421143),\n",
       " ('space', 0.815049409866333),\n",
       " ('curb', 0.7982078194618225),\n",
       " ('crash', 0.7956299185752869),\n",
       " ('drag', 0.7929015755653381),\n",
       " ('travel', 0.7861450910568237)]"
      ]
     },
     "execution_count": 260,
     "metadata": {},
     "output_type": "execute_result"
    }
   ],
   "source": [
    "fasttext_d.wv.most_similar('child')  # adjective associated with democratic"
   ]
  },
  {
   "cell_type": "code",
   "execution_count": 261,
   "metadata": {},
   "outputs": [
    {
     "data": {
      "text/plain": [
       "[('welfar', 0.8936223983764648),\n",
       " ('energi', 0.8900074362754822),\n",
       " ('socal', 0.8750736713409424),\n",
       " ('ffa', 0.8721441030502319),\n",
       " ('canadian', 0.8263280987739563),\n",
       " ('util', 0.8202387690544128),\n",
       " ('navi', 0.8169599771499634),\n",
       " ('scream', 0.8106225728988647),\n",
       " ('locat', 0.808144211769104),\n",
       " ('sys', 0.803824782371521)]"
      ]
     },
     "execution_count": 261,
     "metadata": {},
     "output_type": "execute_result"
    }
   ],
   "source": [
    "fasttext_d.wv.most_similar('welfare')   # concept associated with democratic"
   ]
  },
  {
   "cell_type": "code",
   "execution_count": null,
   "metadata": {},
   "outputs": [],
   "source": [
    "#Question 3 : arranged with Dr Labzina to perform 2 stage least square for this part of the HW\n",
    "# terminology follows the following source:\n",
    "# https://bashtage.github.io/linearmodels/doc/iv/examples/basic-examples.html"
   ]
  },
  {
   "cell_type": "code",
   "execution_count": 185,
   "metadata": {},
   "outputs": [],
   "source": [
    "from linearmodels.iv import IV2SLS"
   ]
  },
  {
   "cell_type": "code",
   "execution_count": 184,
   "metadata": {},
   "outputs": [],
   "source": [
    "df2['_const'] = 1"
   ]
  },
  {
   "cell_type": "code",
   "execution_count": 248,
   "metadata": {},
   "outputs": [
    {
     "data": {
      "text/plain": [
       "Index(['jahr', 'rev', 'judge', 'jid', 'logcites', 'nsents', 'nwords', 'nnouns',\n",
       "       'nverbs', 'nadjes', 'cs', 'party', 'adjs', 'doc', 'leng', '_const'],\n",
       "      dtype='object')"
      ]
     },
     "execution_count": 248,
     "metadata": {},
     "output_type": "execute_result"
    }
   ],
   "source": [
    "df2.columns"
   ]
  },
  {
   "cell_type": "code",
   "execution_count": 190,
   "metadata": {},
   "outputs": [],
   "source": [
    "df2['leng'] = df2['leng'].astype(int)"
   ]
  },
  {
   "cell_type": "code",
   "execution_count": null,
   "metadata": {},
   "outputs": [],
   "source": [
    "df3 = df2[ df2['logcites'] != '']  # get rid of the cases with missing logcites, could also have set to 0\n",
    "# df3 = df2 minus the cases where the logcites is missing  df3 has 879 records, df2 has 1000\n",
    "# the 2 stage SLS is performed using df3"
   ]
  },
  {
   "cell_type": "code",
   "execution_count": null,
   "metadata": {},
   "outputs": [],
   "source": [
    "df3['logcites'] = df3['logcites'].astype(float)"
   ]
  },
  {
   "cell_type": "code",
   "execution_count": null,
   "metadata": {},
   "outputs": [],
   "source": [
    "for col in ['nwords', 'doc', 'adjs']:\n",
    "    df3 = df3.drop(col, axis = 1)"
   ]
  },
  {
   "cell_type": "code",
   "execution_count": 249,
   "metadata": {},
   "outputs": [
    {
     "data": {
      "text/plain": [
       "jahr          int64\n",
       "rev           int64\n",
       "jid           int64\n",
       "logcites    float64\n",
       "nsents        int64\n",
       "nnouns        int64\n",
       "nverbs        int64\n",
       "nadjes        int64\n",
       "cs          float64\n",
       "party         int64\n",
       "leng          int64\n",
       "_const        int64\n",
       "dtype: object"
      ]
     },
     "execution_count": 249,
     "metadata": {},
     "output_type": "execute_result"
    }
   ],
   "source": [
    "df3.dtypes"
   ]
  },
  {
   "cell_type": "code",
   "execution_count": 250,
   "metadata": {},
   "outputs": [
    {
     "data": {
      "text/plain": [
       "879"
      ]
     },
     "execution_count": 250,
     "metadata": {},
     "output_type": "execute_result"
    }
   ],
   "source": [
    "len(df3)"
   ]
  },
  {
   "cell_type": "code",
   "execution_count": null,
   "metadata": {},
   "outputs": [],
   "source": [
    "# according to the linearmodels docu, OLS can also be done using IV2SLS, setting endog and instruments to None"
   ]
  },
  {
   "cell_type": "code",
   "execution_count": null,
   "metadata": {},
   "outputs": [],
   "source": [
    "# how to call IV2SLS:\n",
    "# mod = IV2SLS(dependent, exog, endog, instruments)\n",
    "# in my case dependent = either logcites or rev , I use logcites\n",
    "# exog = _const, leng = length of text, nverbs, jahr : year of the case, cs = vader sentiment score\n",
    "#   the terminology is not directly convincing, since one would think these variables are endog\n",
    "# endog is here \n",
    "# the instrument is here the party affiliation of the judge"
   ]
  },
  {
   "cell_type": "code",
   "execution_count": 242,
   "metadata": {},
   "outputs": [
    {
     "name": "stdout",
     "output_type": "stream",
     "text": [
      "                            OLS Estimation Summary                            \n",
      "==============================================================================\n",
      "Dep. Variable:               logcites   R-squared:                      0.1789\n",
      "Estimator:                        OLS   Adj. R-squared:                 0.1751\n",
      "No. Observations:                 879   F-statistic:                    101.75\n",
      "Date:                Thu, May 16 2019   P-value (F-stat)                0.0000\n",
      "Time:                        09:37:01   Distribution:                  chi2(4)\n",
      "Cov. Estimator:             clustered                                         \n",
      "                                                                              \n",
      "                             Parameter Estimates                              \n",
      "==============================================================================\n",
      "            Parameter  Std. Err.     T-stat    P-value    Lower CI    Upper CI\n",
      "------------------------------------------------------------------------------\n",
      "_const        -10.654     3.2793    -3.2489     0.0012     -17.081     -4.2266\n",
      "leng       -3.861e-06  1.372e-05    -0.2814     0.7784  -3.075e-05   2.303e-05\n",
      "nverbs         0.0009     0.0005     1.7172     0.0859     -0.0001      0.0020\n",
      "jahr           0.0063     0.0017     3.7720     0.0002      0.0030      0.0096\n",
      "cs            -0.0999     0.0312    -3.2020     0.0014     -0.1610     -0.0387\n",
      "==============================================================================\n"
     ]
    }
   ],
   "source": [
    "res_ols = IV2SLS(dependent=df3['logcites'], exog=df3[['_const', 'leng', 'nverbs', 'jahr', 'cs']], endog=None, instruments=None).fit(cov_type='clustered', clusters=df3['jahr'])\n",
    "print(res_ols)\n",
    "# ols estimation summary shows high F-statistics (101.75) and significant correlation between outcome and\n",
    "# casual variable (cs) ( > 2)"
   ]
  },
  {
   "cell_type": "code",
   "execution_count": 234,
   "metadata": {},
   "outputs": [
    {
     "name": "stdout",
     "output_type": "stream",
     "text": [
      "                            OLS Estimation Summary                            \n",
      "==============================================================================\n",
      "Dep. Variable:                     cs   R-squared:                      0.0841\n",
      "Estimator:                        OLS   Adj. R-squared:                 0.0799\n",
      "No. Observations:                 879   F-statistic:                    105.54\n",
      "Date:                Thu, May 16 2019   P-value (F-stat)                0.0000\n",
      "Time:                        09:33:56   Distribution:                  chi2(4)\n",
      "Cov. Estimator:             clustered                                         \n",
      "                                                                              \n",
      "                             Parameter Estimates                              \n",
      "==============================================================================\n",
      "            Parameter  Std. Err.     T-stat    P-value    Lower CI    Upper CI\n",
      "------------------------------------------------------------------------------\n",
      "_const         19.551     2.8396     6.8851     0.0000      13.985      25.116\n",
      "leng        9.313e-05  1.152e-05     8.0819     0.0000   7.055e-05      0.0001\n",
      "nverbs        -0.0038     0.0005    -7.2741     0.0000     -0.0048     -0.0028\n",
      "jahr          -0.0099     0.0014    -6.8049     0.0000     -0.0127     -0.0070\n",
      "party          0.0510     0.0675     0.7551     0.4502     -0.0813      0.1832\n",
      "==============================================================================\n"
     ]
    }
   ],
   "source": [
    "res_1st = IV2SLS(dependent=df3['cs'], exog=df3[['_const', 'leng', 'nverbs', 'jahr', 'party']], \\\n",
    "                 endog=None, instruments=None).fit(cov_type='clustered', clusters=df3['jahr'])\n",
    "print(res_1st)\n",
    "# the first stage indicates with f-statistic = 105.54 easily passes through the rule of thumb test\n",
    "# however the relationship between the IV (cs) and the casual variable (compound sentiment) is not significant at the 5% level"
   ]
  },
  {
   "cell_type": "code",
   "execution_count": 239,
   "metadata": {},
   "outputs": [
    {
     "name": "stdout",
     "output_type": "stream",
     "text": [
      "                          IV-2SLS Estimation Summary                          \n",
      "==============================================================================\n",
      "Dep. Variable:               logcites   R-squared:                     -1.5489\n",
      "Estimator:                    IV-2SLS   Adj. R-squared:                -1.5605\n",
      "No. Observations:                 879   F-statistic:                    38.498\n",
      "Date:                Thu, May 16 2019   P-value (F-stat)                0.0000\n",
      "Time:                        09:35:25   Distribution:                  chi2(4)\n",
      "Cov. Estimator:             clustered                                         \n",
      "                                                                              \n",
      "                             Parameter Estimates                              \n",
      "==============================================================================\n",
      "            Parameter  Std. Err.     T-stat    P-value    Lower CI    Upper CI\n",
      "------------------------------------------------------------------------------\n",
      "_const         15.586     37.274     0.4181     0.6758     -57.469      88.641\n",
      "leng           0.0001     0.0002     0.6830     0.4946     -0.0002      0.0005\n",
      "nverbs        -0.0042     0.0073    -0.5768     0.5641     -0.0185      0.0101\n",
      "jahr          -0.0069     0.0188    -0.3683     0.7127     -0.0437      0.0299\n",
      "cs            -1.4525     1.9221    -0.7557     0.4498     -5.2197      2.3146\n",
      "==============================================================================\n",
      "\n",
      "Endogenous: cs\n",
      "Instruments: party\n",
      "Clustered Covariance (One-Way)\n",
      "Debiased: False\n",
      "Num Clusters: 89\n"
     ]
    }
   ],
   "source": [
    "res_2nd = IV2SLS(dependent=df3['logcites'], exog=df3[['_const', 'leng', 'nverbs', 'jahr']], endog = df3[['cs']], instruments=df3['party']\n",
    ").fit(cov_type='clustered', clusters=df3['jahr'])\n",
    "print(res_2nd)\n",
    "# the second stage with F-statistics =38 stil shows the relevance of 2SLS "
   ]
  },
  {
   "cell_type": "code",
   "execution_count": 247,
   "metadata": {},
   "outputs": [
    {
     "data": {
      "text/plain": [
       "Wu-Hausman test of exogeneity\n",
       "H0: All endogenous variables are exogenous\n",
       "Statistic: 1.5059\n",
       "P-value: 0.2201\n",
       "Distributed: F(1,873)\n",
       "WaldTestStatistic, id: 0x7f9311e3b7b8"
      ]
     },
     "execution_count": 247,
     "metadata": {},
     "output_type": "execute_result"
    }
   ],
   "source": [
    "# the hausman statistics doesn't support exogenuity \n",
    "res_2nd.wu_hausman()"
   ]
  }
 ],
 "metadata": {
  "kernelspec": {
   "display_name": "Python 3",
   "language": "python",
   "name": "python3"
  },
  "language_info": {
   "codemirror_mode": {
    "name": "ipython",
    "version": 3
   },
   "file_extension": ".py",
   "mimetype": "text/x-python",
   "name": "python",
   "nbconvert_exporter": "python",
   "pygments_lexer": "ipython3",
   "version": "3.5.5"
  }
 },
 "nbformat": 4,
 "nbformat_minor": 2
}
